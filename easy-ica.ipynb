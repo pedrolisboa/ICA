{
 "cells": [
  {
   "cell_type": "code",
   "execution_count": 1,
   "id": "8975c2ec-d17b-49a4-b327-399caedaad77",
   "metadata": {},
   "outputs": [],
   "source": [
    "import numpy as np\n",
    "from sklearn.decomposition import FastICA, PCA\n",
    "from scipy import signal\n",
    "from picard import Picard\n",
    "from scipy.stats import entropy\n",
    "\n",
    "import matplotlib.pyplot as plt\n",
    "import mplhep as hep\n",
    "\n",
    "import ipywidgets as widgets\n",
    "from IPython.display import display\n",
    "from ipywidgets import interact, IntSlider, Dropdown, FloatSlider\n",
    "\n",
    "import seaborn as sns\n",
    "\n",
    "import warnings\n",
    "\n",
    "# from src.data_utils import toy_time\n",
    "from src.mutual_info import entropy, kl_divergence, amari_error\n",
    "from src.gradient_models import GradientICA, NaturalGradientICA\n",
    "from src.misc import colors\n",
    "from src.jadeR import jadeR\n",
    "\n",
    "%load_ext autoreload\n",
    "%autoreload 2"
   ]
  },
  {
   "cell_type": "markdown",
   "id": "00b7a67d-9223-4d20-bc02-cea1ed902412",
   "metadata": {},
   "source": [
    "## Análise de Componentes Independentes (ICA)\n",
    ".\n",
    "\n",
    "### Implementação e Visualização\n",
    "\n",
    "Utilizamos a biblioteca `sklearn` para aplicar o ICA, por meio da classe `Fas Além disso, as próximas células desse notebook explorarão outros métodos de obter os componentes indepentendes: `JADE`, `GradientICA`, `NaturalGrtICA`. Este exemplo demonstra como misturar e depois separar sinais usando diferentes distribuições de probabilidade. Cada distribuição representa uma \"fonte\" diferente em nosso exemplo simulado. As fontes são então combinadas em um único sinal composto, que o ICA tentará separar de volta em componentes independentes.\n",
    "\n",
    "#### Funções Definidas:\n",
    "\n",
    "- `generate_mixed_signals`: Gera sinais misturados a partir de distribuições especificadas.\n",
    "- `amari_error`: Calcula o Erro de Amari entre a matriz de mistura verdadeira e a estimada.\n",
    "- `kl_divergence`: Calcula a divergência KL entre os componentes originais e os estimados.\n",
    "- `plot_results`: Visualiza os sinais originais, misturados, e os componentes estimados pelo ICA.\n",
    "\n",
    "### Erro de Amari\n",
    "\n",
    "O Erro de Amari é uma medida que quantifica o quão diferente uma matriz estimada é de uma matriz de mistura original. É definido como:\n",
    "\n",
    "$$\n",
    "\\sum_{i=1}^n \\left( \\sum_{j=1}^n \\frac{|p_{ij}|}{\\max_k |p_{ik}|} - 1 \\right) + \\sum_{j=1}^n\\left(\\sum_{i=1}^n \\frac{|p_{ji}|}{\\max_k |p_{jk}|} - 1 \\right), P = A^{-1} B\n",
    "$$\n",
    "\n",
    "onde $A$ é a matriz de mistura verdadeira, $B$ é a matriz de mistura estimada.\n",
    "\n",
    "### Experimento Interativo\n",
    "\n",
    "O código inclui widgets interativos para selecionar diferentes tipos de distribuição para as fontes, ajustar o número de amostras e a amplitude do ruído. Isso permite experimentar como diferentes configurações influenciam a eficácia do ICA na separação de componentes."
   ]
  },
  {
   "cell_type": "markdown",
   "id": "fa8e5017-b9e0-4f7c-87ca-855dad3d6ee8",
   "metadata": {},
   "source": [
    "## FastICA"
   ]
  },
  {
   "cell_type": "code",
   "execution_count": 2,
   "id": "686febbd-1b97-4c18-98ab-b4ae111bf690",
   "metadata": {},
   "outputs": [
    {
     "data": {
      "application/vnd.jupyter.widget-view+json": {
       "model_id": "611060be443b45b1ae8afbb052a07569",
       "version_major": 2,
       "version_minor": 0
      },
      "text/plain": [
       "interactive(children=(Dropdown(description='Source 1', index=1, options=('gaussian', 'uniform', 'laplace', 'tr…"
      ]
     },
     "metadata": {},
     "output_type": "display_data"
    },
    {
     "data": {
      "text/plain": [
       "<function __main__.<lambda>(source1, source2, source3, source4, n_samples, noise_amp)>"
      ]
     },
     "execution_count": 2,
     "metadata": {},
     "output_type": "execute_result"
    }
   ],
   "source": [
    "\n",
    "\n",
    "def generate_mixed_signals(distributions, n_samples, noise_amp):\n",
    "    distribution_map = {\n",
    "        'gaussian': lambda size: np.random.normal(0, 1, size),\n",
    "        'uniform': lambda size: np.random.uniform(-2, 2, size),\n",
    "        'laplace': lambda size: np.random.laplace(0, 1, size),\n",
    "        'triangular': lambda size: np.random.triangular(-3, 0, 3, size),\n",
    "        'exponential': lambda size: np.random.exponential(1, size)\n",
    "    }\n",
    "    \n",
    "    S = np.vstack([distribution_map[dist](n_samples) for dist in distributions]).T\n",
    "    A = np.array([[0.5, 0.2, 0.1, 0.2],\n",
    "                  [0.1, 0.5, 0.2, 0.2],\n",
    "                  [0.2, 0.1, 0.5, 0.2],\n",
    "                  [0.2, 0.2, 0.2, 0.4]])\n",
    "    X = np.dot(S, A) + np.random.normal(0, noise_amp, S.shape)\n",
    "    return S, X, A\n",
    "\n",
    "\n",
    "def plot_results(S, X, S_est, A, A_est):\n",
    "    plt.figure(figsize=(20, 16))\n",
    "\n",
    "    for i in range(4):\n",
    "        plt.subplot(4, 4, i + 1)\n",
    "        plt.hist(S[:, i], bins=50, color=colors[i], alpha=0.75)\n",
    "        plt.title(f'Source {i+1}')\n",
    "\n",
    "    for i in range(4):\n",
    "        plt.subplot(4, 4, i + 5)\n",
    "        plt.hist(X[:, i], bins=50, color='gray', alpha=0.75)\n",
    "        plt.title(f'Mixed {i+1}')\n",
    "\n",
    "    for i in range(4):\n",
    "        plt.subplot(4, 4, i + 9)\n",
    "        plt.hist(S_est[:, i], bins=50, color=colors[i], alpha=0.75)\n",
    "        plt.title(f'Estimated Source {i+1}')\n",
    "\n",
    "    error = amari_error(A, A_est)\n",
    "    kl_matrix = np.zeros((S.shape[1], S.shape[1]))\n",
    "    for i in range(S.shape[1]):\n",
    "        for j in range(S.shape[1]):\n",
    "            kl, _ = kl_divergence(S[:, i], S_est[:, j])\n",
    "            kl_matrix[i,j] = kl\n",
    "    \n",
    "    plt.subplot(4, 2, 7)\n",
    "    sns.heatmap(np.array([[error]]), annot=True, cmap=\"viridis\", cbar=False,  annot_kws={\"size\": 50})\n",
    "    plt.title('Amari Error')\n",
    "\n",
    "    plt.subplot(4, 2, 8)\n",
    "    sns.heatmap(kl_matrix, annot=True, cmap=\"viridis\")\n",
    "    plt.title('KL Divergence')\n",
    "\n",
    "    plt.tight_layout()\n",
    "    plt.show()\n",
    "\n",
    "def interactive_ica(source1, source2, source3, source4, n_samples, noise_amp, run_ica):\n",
    "    distributions = [source1, source2, source3, source4]\n",
    "    S, X, A = generate_mixed_signals(distributions, n_samples, noise_amp)\n",
    "    S_est, A_est = run_ica(X)\n",
    "    plot_results(S, X, S_est, A, A_est)\n",
    "\n",
    "\n",
    "# Example of a user-defined ICA function (placeholder)\n",
    "def run_ica_example(X):\n",
    "    n_components = 4\n",
    "    algorithm = \"parallel\" # paralell, \"deflation\n",
    "    fun = \"logcosh\" # logcosh, exp, cube (kurtosis)\n",
    "    ica = FastICA(n_components=n_components, algorithm=algorithm, fun=fun)\n",
    "    S_ = ica.fit_transform(X)  # Reconstruct signals\n",
    "    A_ = ica.mixing_  # Get estimated mixing matrix\n",
    "\n",
    "    return S_, A_\n",
    "\n",
    "distribution_choices = ['gaussian', 'uniform', 'laplace', 'triangular', 'exponential']\n",
    "interact(lambda source1, source2, source3, source4, n_samples, noise_amp: interactive_ica(source1, source2, source3, source4, n_samples, noise_amp, run_ica_example),\n",
    "         source1=Dropdown(options=distribution_choices, value='uniform', description='Source 1'),\n",
    "         source2=Dropdown(options=distribution_choices, value='uniform', description='Source 2'),\n",
    "         source3=Dropdown(options=distribution_choices, value='uniform', description='Source 3'),\n",
    "         source4=Dropdown(options=distribution_choices, value='uniform', description='Source 4'),\n",
    "         n_samples=IntSlider(min=1000, max=100000, step=10000, value=50000, description='Samples'),\n",
    "         noise_amp=FloatSlider(min=0, max=1, step=0.01, value=0.1, description='Noise Amplitude'))\n"
   ]
  },
  {
   "cell_type": "markdown",
   "id": "4403d4e4-ada5-49de-a811-fce1a1793092",
   "metadata": {},
   "source": [
    "## JADE"
   ]
  },
  {
   "cell_type": "code",
   "execution_count": 3,
   "id": "b20a8832-ebc2-49e8-9913-5480f86d79e7",
   "metadata": {},
   "outputs": [
    {
     "data": {
      "application/vnd.jupyter.widget-view+json": {
       "model_id": "acaaa7f281bb4b6fa54fe383a1a3a68a",
       "version_major": 2,
       "version_minor": 0
      },
      "text/plain": [
       "interactive(children=(Dropdown(description='Source 1', index=1, options=('gaussian', 'uniform', 'laplace', 'tr…"
      ]
     },
     "metadata": {},
     "output_type": "display_data"
    },
    {
     "data": {
      "text/plain": [
       "<function __main__.<lambda>(source1, source2, source3, source4, n_samples, noise_amp)>"
      ]
     },
     "execution_count": 3,
     "metadata": {},
     "output_type": "execute_result"
    }
   ],
   "source": [
    "# Example of a user-defined ICA function (placeholder)\n",
    "def run_ica_example(X):\n",
    "    n_components = 4\n",
    "    # Apply JADE using jadeR\n",
    "    B = jadeR(X.T, m=n_components, verbose=False)  # B is the unmixing matrix\n",
    "    S_ = B @ X.T  # Recover signals\n",
    "    A_ = B # for standardization\n",
    "    A_ = np.asarray(A_)\n",
    "    S_ = np.asarray(S_.T) # np.matrix -> np.array\n",
    "    \n",
    "\n",
    "    return S_, A_\n",
    "\n",
    "distribution_choices = ['gaussian', 'uniform', 'laplace', 'triangular', 'exponential']\n",
    "interact(lambda source1, source2, source3, source4, n_samples, noise_amp: interactive_ica(source1, source2, source3, source4, n_samples, noise_amp, run_ica_example),\n",
    "         source1=Dropdown(options=distribution_choices, value='uniform', description='Source 1'),\n",
    "         source2=Dropdown(options=distribution_choices, value='uniform', description='Source 2'),\n",
    "         source3=Dropdown(options=distribution_choices, value='uniform', description='Source 3'),\n",
    "         source4=Dropdown(options=distribution_choices, value='uniform', description='Source 4'),\n",
    "         n_samples=IntSlider(min=1000, max=100000, step=10000, value=50000, description='Samples'),\n",
    "         noise_amp=FloatSlider(min=0, max=1, step=0.01, value=0.1, description='Noise Amplitude'))"
   ]
  },
  {
   "cell_type": "markdown",
   "id": "e43ec06b-fad2-4627-bf78-3ce9638572d0",
   "metadata": {},
   "source": [
    "## Picard\n",
    "\n",
    "O artigo \"Faster Independent Component Analysis by Preconditioning with Hessiana Approximations\" introduz o algoritmo Picard, que é uma nova abordagem para melhorar a eficiência e precisão da Análise de Componentes Independentes (ICA). Aqui está uma síntese focando nos pontos principais solicitados:\n",
    "\n",
    "### Ponto Principal\n",
    "O objetivo principal do artigo é abordar a convergência lenta e a alta demanda computacional dos métodos tradicionais de ICA, especialmente em conjuntos de dados grandes ou complexos onde os modelos padrão podem não se ajustar bem. Os autores propõem o algoritmo Picard, um método otimizado de ICA que usa técnicas de otimização precondicionadas para melhorar o desempenho.\n",
    "\n",
    "### O Algoritmo Picard\n",
    "Picard significa Preconditioned ICA for Real Data. É um método avançado de quasi-Newton que incorpora a otimização L-BFGS precondicionada com aproximações da Hessiana. Este método captura efetivamente a curvatura da paisagem de otimização, tornando a convergência mais rápida e mais robusta contra as não idealidades em dados do mundo real.\n",
    "\n",
    "### Integração de Maximum Likelihood e Infomax\n",
    "- **Maximum Likelihood**: Picard aprimora a abordagem tradicional de máxima verossimilhança para ICA ao otimizar a função de verossimilhança com L-BFGS precondicionado, uma técnica que aproveita informações de curvatura anteriores para melhorar a precisão e velocidade do passo atual.\n",
    "- **Infomax**: Enquanto o Infomax tradicional usa uma abordagem de gradiente estocástico que pode exigir ajuste extensivo e convergir lentamente, Picard usa uma abordagem determinística que melhora sistematicamente o Infomax estabilizando e acelerando sua convergência através de uma melhor exploração da estrutura de dados.\n",
    "\n",
    "### Uso da Hessiana\n",
    "- **Aproximações**: O algoritmo não utiliza a Hessiana completa devido ao seu custo computacional, mas emprega aproximações esparsas. Essas aproximações são calculadas sob a suposição de que os sinais estimados atuais são independentes, simplificando a Hessiana em uma forma que é computacionalmente mais barata de inverter.\n",
    "- **Precondicionamento**: Essas aproximações da Hessiana são usadas para precondicionar o algoritmo L-BFGS, efetivamente guiando o processo de otimização ao fornecer uma melhor estimativa da curvatura local da superfície de verossimilhança. Isso é crucial para acelerar a convergência e garantir estabilidade em cenários de otimização não convexos típicos da ICA.\n",
    "\n",
    "### Resumo\n",
    "O algoritmo Picard aborda várias questões-chave nos métodos tradicionais de ICA integrando técnicas matemáticas avançadas e otimizações. Seu uso de aproximações da Hessiana para precondicionamento, combinado com uma estrutura de otimização robusta L-BFGS, permite superar os métodos existentes, particularmente no tratamento de dados em grande escala e complexos típicos em campos como neurociência e processamento de sinais. Isso o torna uma contribuição valiosa para a aprendizagem de máquina não supervisionada, especialmente em aplicações onde a qualidade dos dados e recursos computacionais são preocupações significativas.\n"
   ]
  },
  {
   "cell_type": "code",
   "execution_count": 4,
   "id": "dafeed33-673f-4352-b3df-b1fd4b222b1f",
   "metadata": {},
   "outputs": [
    {
     "data": {
      "application/vnd.jupyter.widget-view+json": {
       "model_id": "d05fad12ec354e6087cb350895d0c8c7",
       "version_major": 2,
       "version_minor": 0
      },
      "text/plain": [
       "interactive(children=(Dropdown(description='Source 1', index=1, options=('gaussian', 'uniform', 'laplace', 'tr…"
      ]
     },
     "metadata": {},
     "output_type": "display_data"
    },
    {
     "data": {
      "text/plain": [
       "<function __main__.<lambda>(source1, source2, source3, source4, n_samples, noise_amp)>"
      ]
     },
     "execution_count": 4,
     "metadata": {},
     "output_type": "execute_result"
    }
   ],
   "source": [
    "# Example of a user-defined ICA function (placeholder)\n",
    "def run_ica_example(X):\n",
    "    n_components = 4\n",
    "    extended = True\n",
    "    ortho = True\n",
    "    # Apply Picard\n",
    "    ica = Picard(n_components=n_components, extended=extended, ortho=ortho, random_state=0, fun=\"logcosh\", whiten=\"unit-variance\")\n",
    "    S_ = ica.fit_transform(X)  # Reconstruct signals\n",
    "    A_ = ica.mixing_  # Get estimated mixing matrix\n",
    "    \n",
    "\n",
    "    return S_, A_\n",
    "\n",
    "distribution_choices = ['gaussian', 'uniform', 'laplace', 'triangular', 'exponential']\n",
    "interact(lambda source1, source2, source3, source4, n_samples, noise_amp: interactive_ica(source1, source2, source3, source4, n_samples, noise_amp, run_ica_example),\n",
    "         source1=Dropdown(options=distribution_choices, value='uniform', description='Source 1'),\n",
    "         source2=Dropdown(options=distribution_choices, value='uniform', description='Source 2'),\n",
    "         source3=Dropdown(options=distribution_choices, value='uniform', description='Source 3'),\n",
    "         source4=Dropdown(options=distribution_choices, value='uniform', description='Source 4'),\n",
    "         n_samples=IntSlider(min=1000, max=100000, step=10000, value=50000, description='Samples'),\n",
    "         noise_amp=FloatSlider(min=0, max=1, step=0.01, value=0.1, description='Noise Amplitude'))"
   ]
  },
  {
   "cell_type": "markdown",
   "id": "ab27a2c9-f1c7-4ee6-ae94-507801d47a17",
   "metadata": {},
   "source": [
    "## Gradient-based ICA"
   ]
  },
  {
   "cell_type": "code",
   "execution_count": 5,
   "id": "b4e84d1a-a681-4a78-8103-4fffa4b0012e",
   "metadata": {},
   "outputs": [
    {
     "data": {
      "application/vnd.jupyter.widget-view+json": {
       "model_id": "63b7def552244b2b91a658f851e908f8",
       "version_major": 2,
       "version_minor": 0
      },
      "text/plain": [
       "interactive(children=(Dropdown(description='Source 1', index=1, options=('gaussian', 'uniform', 'laplace', 'tr…"
      ]
     },
     "metadata": {},
     "output_type": "display_data"
    },
    {
     "data": {
      "text/plain": [
       "<function __main__.<lambda>(source1, source2, source3, source4, n_samples, noise_amp)>"
      ]
     },
     "execution_count": 5,
     "metadata": {},
     "output_type": "execute_result"
    }
   ],
   "source": [
    "\n",
    "\n",
    "# Example of a user-defined ICA function (placeholder)\n",
    "def run_ica_example(X):\n",
    "    n_components = 4\n",
    "    ica = GradientICA(n_components=n_components, max_iter=500, learning_rate=0.1, method='negentropy', g_func='g2', approach='deflationary', whiten=False)\n",
    "    ica.fit(X)\n",
    "    S_ = ica.transform(X)\n",
    "    A_ = ica.weights  # Get estimated mixing matrix\n",
    "\n",
    "    return S_, A_\n",
    "\n",
    "distribution_choices = ['gaussian', 'uniform', 'laplace', 'triangular', 'exponential']\n",
    "interact(lambda source1, source2, source3, source4, n_samples, noise_amp: interactive_ica(source1, source2, source3, source4, n_samples, noise_amp, run_ica_example),\n",
    "         source1=Dropdown(options=distribution_choices, value='uniform', description='Source 1'),\n",
    "         source2=Dropdown(options=distribution_choices, value='uniform', description='Source 2'),\n",
    "         source3=Dropdown(options=distribution_choices, value='uniform', description='Source 3'),\n",
    "         source4=Dropdown(options=distribution_choices, value='uniform', description='Source 4'),\n",
    "         n_samples=IntSlider(min=1000, max=100000, step=10000, value=50000, description='Samples'),\n",
    "         noise_amp=FloatSlider(min=0, max=1, step=0.01, value=0.1, description='Noise Amplitude'))"
   ]
  },
  {
   "cell_type": "markdown",
   "id": "6e0b85c1-5bc3-4377-878e-1546f10abe84",
   "metadata": {},
   "source": [
    "## Natural Gradient-based ICA"
   ]
  },
  {
   "cell_type": "code",
   "execution_count": 6,
   "id": "a2e6d680-4997-4eb4-ae63-54ca0fcab3b7",
   "metadata": {},
   "outputs": [
    {
     "data": {
      "image/png": "[encoded data removed]",
      "text/plain": [
       "<Figure size 2000x1600 with 9 Axes>"
      ]
     },
     "metadata": {},
     "output_type": "display_data"
    },
    {
     "data": {
      "application/vnd.jupyter.widget-view+json": {
       "model_id": "ee0260ec2a3f4fdf99ef7c40041d5633",
       "version_major": 2,
       "version_minor": 0
      },
      "text/plain": [
       "interactive(children=(Dropdown(description='Source 1', index=1, options=('gaussian', 'uniform', 'laplace', 'tr…"
      ]
     },
     "metadata": {},
     "output_type": "display_data"
    },
    {
     "data": {
      "text/plain": [
       "<function __main__.<lambda>(source1, source2, source3, source4, n_samples, noise_amp)>"
      ]
     },
     "execution_count": 6,
     "metadata": {},
     "output_type": "execute_result"
    }
   ],
   "source": [
    "# Example of a user-defined ICA function (placeholder)\n",
    "def run_ica_example(X):\n",
    "    n_components = 4\n",
    "    ica = NaturalGradientICA(n_components=4, whiten=False, max_iter=5000, mu=.1, mu_gamma=.01)\n",
    "    ica.fit(X)\n",
    "    S_ = ica.transform(X)\n",
    "    A_ = ica.weights  # Get estimated mixing matrix\n",
    "\n",
    "    return S_, A_\n",
    "\n",
    "distribution_choices = ['gaussian', 'uniform', 'laplace', 'triangular', 'exponential']\n",
    "interact(lambda source1, source2, source3, source4, n_samples, noise_amp: interactive_ica(source1, source2, source3, source4, n_samples, noise_amp, run_ica_example),\n",
    "         source1=Dropdown(options=distribution_choices, value='uniform', description='Source 1'),\n",
    "         source2=Dropdown(options=distribution_choices, value='uniform', description='Source 2'),\n",
    "         source3=Dropdown(options=distribution_choices, value='uniform', description='Source 3'),\n",
    "         source4=Dropdown(options=distribution_choices, value='uniform', description='Source 4'),\n",
    "         n_samples=IntSlider(min=1000, max=100000, step=10000, value=50000, description='Samples'),\n",
    "         noise_amp=FloatSlider(min=0, max=1, step=0.01, value=0.1, description='Noise Amplitude'))"
   ]
  },
  {
   "cell_type": "code",
   "execution_count": null,
   "id": "231e4931-026f-4573-87bd-76f4c8ee05e4",
   "metadata": {},
   "outputs": [],
   "source": []
  }
 ],
 "metadata": {
  "kernelspec": {
   "display_name": "Python 3 (ipykernel)",
   "language": "python",
   "name": "python3"
  },
  "language_info": {
   "codemirror_mode": {
    "name": "ipython",
    "version": 3
   },
   "file_extension": ".py",
   "mimetype": "text/x-python",
   "name": "python",
   "nbconvert_exporter": "python",
   "pygments_lexer": "ipython3",
   "version": "3.11.5"
  }
 },
 "nbformat": 4,
 "nbformat_minor": 5
}
